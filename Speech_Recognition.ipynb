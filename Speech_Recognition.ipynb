{
 "cells": [
  {
   "cell_type": "code",
   "execution_count": null,
   "metadata": {},
   "outputs": [],
   "source": [
    "from pynq import PL\n",
    "from pynq import Overlay\n",
    "from pynq import MMIO\n",
    "import numpy as np\n",
    "import matplotlib.pyplot as plt\n",
    "import wave\n",
    "from IPython.display import Audio as IPAudio\n",
    "import audioop\n",
    "from soundfile import SoundFile\n",
    "from aip import AipSpeech\n",
    "from getpass import getpass\n",
    "from respeaker import *"
   ]
  },
  {
   "cell_type": "code",
   "execution_count": null,
   "metadata": {},
   "outputs": [],
   "source": [
    "ol = Overlay(\"./bitstream/respeaker_wifi.bit\")\n",
    "ol.download()\n",
    "ac108_init()\n",
    "RESPEAKER_ADDR = 0x43C00000\n",
    "RESPEAKER_RANGE = 0x1000\n",
    "RESPEAKER_OFFSET = 0x00\n",
    "\n",
    "APP_ID = getpass('APP ID: ')\n",
    "API_KEY = getpass('API KEY: ')\n",
    "SECRET_KEY = getpass('SECRET KEY: ')\n",
    "client = AipSpeech(APP_ID, API_KEY, SECRET_KEY)"
   ]
  },
  {
   "cell_type": "code",
   "execution_count": null,
   "metadata": {},
   "outputs": [],
   "source": [
    "mmio = MMIO(RESPEAKER_ADDR, RESPEAKER_RANGE)\n",
    "cap_cnt = 44100\n",
    "ch1 = np.zeros(shape=(cap_cnt),dtype=np.uint32)"
   ]
  },
  {
   "cell_type": "code",
   "execution_count": null,
   "metadata": {},
   "outputs": [],
   "source": [
    "Wave_write1 = wave.open(r\"recong.wav\", 'w')\n",
    "Wave_write1.setnchannels(1)\n",
    "Wave_write1.setsampwidth(4)\n",
    "Wave_write1.setframerate(cap_cnt)\n",
    "for t in range(0,5):\n",
    "    for i in range(0,cap_cnt):\n",
    "        ch1[i] = mmio.read(0)\n",
    "    Wave_write1.writeframes(ch1.tobytes())\n",
    "Wave_write1.close()"
   ]
  },
  {
   "cell_type": "code",
   "execution_count": null,
   "metadata": {},
   "outputs": [],
   "source": [
    "IPAudio(\"say_something.wav\")"
   ]
  },
  {
   "cell_type": "code",
   "execution_count": null,
   "metadata": {},
   "outputs": [],
   "source": [
    "file = SoundFile('say_something.wav')\n",
    "temp_data = bytes(cap_cnt * 4)\n",
    "file.buffer_read_into(temp_data, dtype='int16');\n",
    "data = audioop.ratecv(temp_data, 2, 1, 44100, 16000, None)"
   ]
  },
  {
   "cell_type": "code",
   "execution_count": null,
   "metadata": {},
   "outputs": [],
   "source": [
    "result = client.asr(data[0], 'pcm', 16000, {\n",
    "    'dev_pid': 1737,\n",
    "})\n",
    "print(result)"
   ]
  }
 ],
 "metadata": {
  "kernelspec": {
   "display_name": "Python 3",
   "language": "python",
   "name": "python3"
  },
  "language_info": {
   "codemirror_mode": {
    "name": "ipython",
    "version": 3
   },
   "file_extension": ".py",
   "mimetype": "text/x-python",
   "name": "python",
   "nbconvert_exporter": "python",
   "pygments_lexer": "ipython3",
   "version": "3.7.1"
  }
 },
 "nbformat": 4,
 "nbformat_minor": 2
}
